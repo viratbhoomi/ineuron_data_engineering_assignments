{
  "cells": [
    {
      "cell_type": "markdown",
      "id": "84a41a9f",
      "metadata": {
        "id": "84a41a9f"
      },
      "source": [
        "# Programming Basic Assignment 6"
      ]
    },
    {
      "cell_type": "markdown",
      "id": "a4b40558",
      "metadata": {
        "id": "a4b40558"
      },
      "source": [
        "------------\n",
        "### 1. Write a Python Program to Display Fibonacci Sequence Using Recursion?"
      ]
    },
    {
      "cell_type": "code",
      "execution_count": null,
      "id": "e1b8420c",
      "metadata": {
        "id": "e1b8420c"
      },
      "outputs": [],
      "source": [
        "def fibo(a,b,c):\n",
        "    if c > 0:\n",
        "        c -= 1\n",
        "        print(a, end=' ')\n",
        "        temp = b\n",
        "        b = a + b\n",
        "        a = temp\n",
        "        fibo(a,b,c)"
      ]
    },
    {
      "cell_type": "code",
      "execution_count": null,
      "id": "4dee60ad",
      "metadata": {
        "id": "4dee60ad",
        "outputId": "ea0af97b-6d80-44b1-f238-51dd03990218"
      },
      "outputs": [
        {
          "name": "stdout",
          "output_type": "stream",
          "text": [
            "0 1 1 2 3 5 8 13 21 34 "
          ]
        }
      ],
      "source": [
        "fibo(0,1,10)"
      ]
    },
    {
      "cell_type": "code",
      "source": [
        "def fibonacci(n):\n",
        "    if(n <= 1):\n",
        "        return n\n",
        "    else:\n",
        "        return(fibonacci(n-1) + fibonacci(n-2))\n",
        "n = int(input(\"Enter number of terms:\"))\n",
        "print(\"Fibonacci sequence:\")\n",
        "for i in range(n):\n",
        "    print(fibonacci(i))"
      ],
      "metadata": {
        "colab": {
          "base_uri": "https://localhost:8080/"
        },
        "id": "1KZ8tuj1E-c6",
        "outputId": "b9dc0258-4621-4f17-a99a-97fd59ff56c4"
      },
      "id": "1KZ8tuj1E-c6",
      "execution_count": 7,
      "outputs": [
        {
          "output_type": "stream",
          "name": "stdout",
          "text": [
            "Enter number of terms:5\n",
            "Fibonacci sequence:\n",
            "0\n",
            "1\n",
            "1\n",
            "2\n",
            "3\n"
          ]
        }
      ]
    },
    {
      "cell_type": "markdown",
      "id": "d7a57f60",
      "metadata": {
        "id": "d7a57f60"
      },
      "source": [
        "-------------------\n",
        "### 2. Write a Python Program to Find Factorial of Number Using Recursion?"
      ]
    },
    {
      "cell_type": "code",
      "execution_count": null,
      "id": "2cdea8e5",
      "metadata": {
        "id": "2cdea8e5"
      },
      "outputs": [],
      "source": [
        "def fact(n):\n",
        "    if n == 0:\n",
        "        return 1\n",
        "    else:\n",
        "        return n*fact(n-1)"
      ]
    },
    {
      "cell_type": "code",
      "execution_count": null,
      "id": "fc5ec589",
      "metadata": {
        "id": "fc5ec589",
        "outputId": "47a61e23-02ba-45bb-8e13-36b48ac33490"
      },
      "outputs": [
        {
          "data": {
            "text/plain": [
              "120"
            ]
          },
          "execution_count": 18,
          "metadata": {},
          "output_type": "execute_result"
        }
      ],
      "source": [
        "fact(5)"
      ]
    },
    {
      "cell_type": "code",
      "execution_count": null,
      "id": "9cc54ac2",
      "metadata": {
        "id": "9cc54ac2",
        "outputId": "0b04d823-733b-43e7-c0ad-52e6c5ee4eaf"
      },
      "outputs": [
        {
          "data": {
            "text/plain": [
              "5040"
            ]
          },
          "execution_count": 19,
          "metadata": {},
          "output_type": "execute_result"
        }
      ],
      "source": [
        "fact(7)"
      ]
    },
    {
      "cell_type": "code",
      "source": [
        "def factorial(n):\n",
        "  if n==0 or n==1:\n",
        "    return 1\n",
        "  else:\n",
        "    return (n*factorial(n-1))\n",
        "factorial(5)"
      ],
      "metadata": {
        "colab": {
          "base_uri": "https://localhost:8080/"
        },
        "id": "C9lCk2SfHPZK",
        "outputId": "d677fa79-b101-4025-80c8-23c24d329a13"
      },
      "id": "C9lCk2SfHPZK",
      "execution_count": 13,
      "outputs": [
        {
          "output_type": "execute_result",
          "data": {
            "text/plain": [
              "120"
            ]
          },
          "metadata": {},
          "execution_count": 13
        }
      ]
    },
    {
      "cell_type": "markdown",
      "id": "0357b86f",
      "metadata": {
        "id": "0357b86f"
      },
      "source": [
        "-------------\n",
        "### 3. Write a Python Program to calculate your Body Mass Index?"
      ]
    },
    {
      "cell_type": "code",
      "execution_count": null,
      "id": "ae7411ea",
      "metadata": {
        "id": "ae7411ea"
      },
      "outputs": [],
      "source": [
        "def bmi(height, weight):\n",
        "    \n",
        "    return weight/(height*height)"
      ]
    },
    {
      "cell_type": "code",
      "execution_count": null,
      "id": "b1ef7685",
      "metadata": {
        "id": "b1ef7685",
        "outputId": "5500609b-7d16-4005-8e07-776aeb690380"
      },
      "outputs": [
        {
          "data": {
            "text/plain": [
              "21.604938271604937"
            ]
          },
          "execution_count": 26,
          "metadata": {},
          "output_type": "execute_result"
        }
      ],
      "source": [
        "bmi(1.8, 70)"
      ]
    },
    {
      "cell_type": "code",
      "source": [
        "def bmi(height, weight):\n",
        "    \n",
        "    return weight/pow(height,2)\n",
        "bmi(1.8,70)"
      ],
      "metadata": {
        "colab": {
          "base_uri": "https://localhost:8080/"
        },
        "id": "MV-hNGkPJNpb",
        "outputId": "1508e6c4-3ccf-4e2f-d0b3-f808d1a4893e"
      },
      "id": "MV-hNGkPJNpb",
      "execution_count": 15,
      "outputs": [
        {
          "output_type": "execute_result",
          "data": {
            "text/plain": [
              "21.604938271604937"
            ]
          },
          "metadata": {},
          "execution_count": 15
        }
      ]
    },
    {
      "cell_type": "markdown",
      "id": "96d344a4",
      "metadata": {
        "id": "96d344a4"
      },
      "source": [
        "--------------\n",
        "### 4. Write a Python Program to calculate the natural logarithm of any number?"
      ]
    },
    {
      "cell_type": "code",
      "execution_count": null,
      "id": "967b521c",
      "metadata": {
        "id": "967b521c",
        "outputId": "96c0cd4b-444b-46d2-d16b-c136b6309efd"
      },
      "outputs": [
        {
          "name": "stdout",
          "output_type": "stream",
          "text": [
            "Enter the number: 14\n",
            "2.6390573296152584\n"
          ]
        }
      ],
      "source": [
        "import math\n",
        "\n",
        "try:\n",
        "    num = int(input(\"Enter the number: \"))\n",
        "except Exception as e:\n",
        "    print(e)\n",
        "else:\n",
        "    print(math.log(num))"
      ]
    },
    {
      "cell_type": "code",
      "source": [
        "import math\n",
        "def logarithamic(n):\n",
        "  return math.log(n)\n",
        "logarithamic(14)"
      ],
      "metadata": {
        "colab": {
          "base_uri": "https://localhost:8080/"
        },
        "id": "t8SNaz0iJk5_",
        "outputId": "f76851ac-3158-418f-a4e8-8c96c5d68ea9"
      },
      "id": "t8SNaz0iJk5_",
      "execution_count": 16,
      "outputs": [
        {
          "output_type": "execute_result",
          "data": {
            "text/plain": [
              "2.6390573296152584"
            ]
          },
          "metadata": {},
          "execution_count": 16
        }
      ]
    },
    {
      "cell_type": "markdown",
      "id": "11c0d92c",
      "metadata": {
        "id": "11c0d92c"
      },
      "source": [
        "------------\n",
        "### 5. Write a Python Program for cube sum of first n natural numbers?\n"
      ]
    },
    {
      "cell_type": "code",
      "execution_count": null,
      "id": "04a60dbe",
      "metadata": {
        "id": "04a60dbe"
      },
      "outputs": [],
      "source": [
        "def cubN(n):\n",
        "    return sum(range(n+1))**3"
      ]
    },
    {
      "cell_type": "code",
      "execution_count": null,
      "id": "289a7617",
      "metadata": {
        "id": "289a7617",
        "outputId": "84b1c030-3682-4709-9793-7081b5943fa7"
      },
      "outputs": [
        {
          "data": {
            "text/plain": [
              "216"
            ]
          },
          "execution_count": 38,
          "metadata": {},
          "output_type": "execute_result"
        }
      ],
      "source": [
        "cubN(3)"
      ]
    },
    {
      "cell_type": "code",
      "execution_count": null,
      "id": "7d76742d",
      "metadata": {
        "id": "7d76742d",
        "outputId": "4cbf7be1-d86b-4590-97ed-3488b1640d59"
      },
      "outputs": [
        {
          "data": {
            "text/plain": [
              "1000"
            ]
          },
          "execution_count": 39,
          "metadata": {},
          "output_type": "execute_result"
        }
      ],
      "source": [
        "cubN(4)"
      ]
    },
    {
      "cell_type": "code",
      "execution_count": 42,
      "id": "b85b9140",
      "metadata": {
        "colab": {
          "base_uri": "https://localhost:8080/"
        },
        "id": "b85b9140",
        "outputId": "a2242895-ea2a-42cc-c2a8-f30a76763cc4"
      },
      "outputs": [
        {
          "output_type": "execute_result",
          "data": {
            "text/plain": [
              "216"
            ]
          },
          "metadata": {},
          "execution_count": 42
        }
      ],
      "source": [
        "def cube_sum(n):\n",
        "  return sum([i for i in range(n+1)])**3\n",
        "cube_sum(3)"
      ]
    },
    {
      "cell_type": "code",
      "source": [],
      "metadata": {
        "id": "xbF5cHBYKKjT"
      },
      "id": "xbF5cHBYKKjT",
      "execution_count": 33,
      "outputs": []
    },
    {
      "cell_type": "code",
      "source": [],
      "metadata": {
        "id": "4uZgy4eqNR3H"
      },
      "id": "4uZgy4eqNR3H",
      "execution_count": null,
      "outputs": []
    }
  ],
  "metadata": {
    "kernelspec": {
      "display_name": "Python 3 (ipykernel)",
      "language": "python",
      "name": "python3"
    },
    "language_info": {
      "codemirror_mode": {
        "name": "ipython",
        "version": 3
      },
      "file_extension": ".py",
      "mimetype": "text/x-python",
      "name": "python",
      "nbconvert_exporter": "python",
      "pygments_lexer": "ipython3",
      "version": "3.9.7"
    },
    "colab": {
      "provenance": []
    }
  },
  "nbformat": 4,
  "nbformat_minor": 5
}