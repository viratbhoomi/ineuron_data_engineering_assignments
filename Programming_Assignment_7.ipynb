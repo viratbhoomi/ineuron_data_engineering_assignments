{
  "cells": [
    {
      "cell_type": "markdown",
      "id": "35297a20",
      "metadata": {
        "id": "35297a20"
      },
      "source": [
        "## Programming Basic Assignment 7"
      ]
    },
    {
      "cell_type": "markdown",
      "id": "27349114",
      "metadata": {
        "id": "27349114"
      },
      "source": [
        "------------------\n",
        "### 1. Write a Python Program to find sum of array?\n"
      ]
    },
    {
      "cell_type": "code",
      "execution_count": null,
      "id": "cfaf637b",
      "metadata": {
        "id": "cfaf637b",
        "outputId": "df962182-996e-4c2c-9585-90a19fbdc669"
      },
      "outputs": [
        {
          "name": "stdout",
          "output_type": "stream",
          "text": [
            "Sum of array:  197\n"
          ]
        }
      ],
      "source": [
        "l = [1,2,3,-412, 123, 369, 111]\n",
        "\n",
        "arraySum = 0\n",
        "for i in l:\n",
        "    arraySum += i\n",
        "    \n",
        "print(\"Sum of array: \", arraySum)"
      ]
    },
    {
      "cell_type": "code",
      "source": [
        "from functools import reduce\n",
        "arr = [1,2,3,-412, 123, 369, 111]\n",
        "arr_sum = reduce(lambda a,b:a+b,arr)\n",
        "print(arr_sum)\n",
        "\n"
      ],
      "metadata": {
        "colab": {
          "base_uri": "https://localhost:8080/"
        },
        "id": "qXlZw-6lRCG1",
        "outputId": "56fc3584-42c9-4f44-f932-673a3228cc1d"
      },
      "id": "qXlZw-6lRCG1",
      "execution_count": 22,
      "outputs": [
        {
          "output_type": "stream",
          "name": "stdout",
          "text": [
            "197\n"
          ]
        }
      ]
    },
    {
      "cell_type": "markdown",
      "id": "171a980d",
      "metadata": {
        "id": "171a980d"
      },
      "source": [
        "-----------------\n",
        "### 2. Write a Python Program to find largest element in an array?\n"
      ]
    },
    {
      "cell_type": "code",
      "execution_count": null,
      "id": "87fe5169",
      "metadata": {
        "id": "87fe5169",
        "outputId": "42024796-6eae-40bb-bb13-b229abab9b75"
      },
      "outputs": [
        {
          "data": {
            "text/plain": [
              "369"
            ]
          },
          "execution_count": 5,
          "metadata": {},
          "output_type": "execute_result"
        }
      ],
      "source": [
        "l = [1,2,3,-412, 123, 369, 111]\n",
        "\n",
        "arrayMax = -9999999999999\n",
        "\n",
        "for i in l:\n",
        "    if i > arrayMax:\n",
        "        arrayMax = i\n",
        "\n",
        "arrayMax"
      ]
    },
    {
      "cell_type": "code",
      "source": [
        "l = [1,2,3,-412, 123, 369, 111]\n",
        "for i in range(len(arr)):\n",
        "  for j in range(i+1,len(arr)):\n",
        "    if l[j]>l[i]:\n",
        "      l[i],l[j]=l[j],l[i]\n",
        "print(\"The largest element in the array is: \",l[0])\n"
      ],
      "metadata": {
        "colab": {
          "base_uri": "https://localhost:8080/"
        },
        "id": "Ccgb77WJUsXw",
        "outputId": "57c1cc21-6fe8-4096-acda-bb36c17f4201"
      },
      "id": "Ccgb77WJUsXw",
      "execution_count": 30,
      "outputs": [
        {
          "output_type": "stream",
          "name": "stdout",
          "text": [
            "The largest element in the array is:  369\n"
          ]
        }
      ]
    },
    {
      "cell_type": "markdown",
      "id": "21613246",
      "metadata": {
        "id": "21613246"
      },
      "source": [
        "----------------\n",
        "### 3. Write a Python Program for array rotation?"
      ]
    },
    {
      "cell_type": "code",
      "execution_count": null,
      "id": "ce2027d5",
      "metadata": {
        "scrolled": true,
        "id": "ce2027d5",
        "outputId": "2bdf87a9-0c18-4fb8-dd66-c88f35716fef"
      },
      "outputs": [
        {
          "name": "stdout",
          "output_type": "stream",
          "text": [
            "Rotated array:\n",
            "[111, 369, 123, -412, 3, 2, 1]\n"
          ]
        }
      ],
      "source": [
        "l = [1,2,3,-412, 123, 369, 111]\n",
        "\n",
        "print(\"Rotated array:\")\n",
        "print(l[::-1])"
      ]
    },
    {
      "cell_type": "code",
      "source": [
        "l = [1,2,3,-412, 123, 369, 111]\n",
        "s = []\n",
        "for i in range(len(l)-1,-1,-1):\n",
        "  s.append(l[i])\n",
        "print(s)\n",
        "\n"
      ],
      "metadata": {
        "colab": {
          "base_uri": "https://localhost:8080/"
        },
        "id": "qG3CDsqvX9Vm",
        "outputId": "07da8625-f292-47e3-bff7-f8e4217359ad"
      },
      "id": "qG3CDsqvX9Vm",
      "execution_count": 55,
      "outputs": [
        {
          "output_type": "stream",
          "name": "stdout",
          "text": [
            "[111, 369, 123, -412, 3, 2, 1]\n"
          ]
        }
      ]
    },
    {
      "cell_type": "markdown",
      "id": "3e52d939",
      "metadata": {
        "id": "3e52d939"
      },
      "source": [
        "-------------\n",
        "### 4. Write a Python Program to Split the array and add the first part to the end?\n"
      ]
    },
    {
      "cell_type": "code",
      "execution_count": null,
      "id": "1bb79098",
      "metadata": {
        "id": "1bb79098"
      },
      "outputs": [],
      "source": [
        "def splitAdd(l, split):\n",
        "    '''\n",
        "    l = list\n",
        "    split = splitIndex\n",
        "    '''\n",
        "    out = []\n",
        "    for i in range(len(l)):\n",
        "        index = (i+len(l)+split)%len(l)\n",
        "        out.append(l[index])\n",
        "        \n",
        "    return out"
      ]
    },
    {
      "cell_type": "code",
      "execution_count": null,
      "id": "b6d4f9a4",
      "metadata": {
        "id": "b6d4f9a4",
        "outputId": "ee50b4da-b0f8-4f7d-b029-1db53faa605b"
      },
      "outputs": [
        {
          "data": {
            "text/plain": [
              "[3, -412, 123, 369, 111, 1, 2]"
            ]
          },
          "execution_count": 23,
          "metadata": {},
          "output_type": "execute_result"
        }
      ],
      "source": [
        "l = [1,2,3,-412, 123, 369, 111]\n",
        "splitIndex = 2\n",
        "splitAdd(l, splitIndex)"
      ]
    },
    {
      "cell_type": "code",
      "source": [
        "l = [1,2,3,-412, 123, 369, 111]\n",
        "part = [l[0],l[1]]\n",
        "l.remove(l[0])\n",
        "l.remove(l[0])\n",
        "l.append(part[0]),l.append(part[1])\n",
        "print(l)\n",
        "\n"
      ],
      "metadata": {
        "colab": {
          "base_uri": "https://localhost:8080/"
        },
        "id": "FtahQyPRcRPw",
        "outputId": "e3c2a3ee-eaa0-4b28-d5ca-1aceb7f5c364"
      },
      "id": "FtahQyPRcRPw",
      "execution_count": 61,
      "outputs": [
        {
          "output_type": "stream",
          "name": "stdout",
          "text": [
            "[3, -412, 123, 369, 111, 1, 2]\n"
          ]
        }
      ]
    },
    {
      "cell_type": "code",
      "source": [],
      "metadata": {
        "id": "FCNni6nXdECW"
      },
      "id": "FCNni6nXdECW",
      "execution_count": 57,
      "outputs": []
    },
    {
      "cell_type": "markdown",
      "id": "aa375779",
      "metadata": {
        "id": "aa375779"
      },
      "source": [
        "--------------\n",
        "### 5. Write a Python Program to check if given array is Monotonic?"
      ]
    },
    {
      "cell_type": "code",
      "execution_count": null,
      "id": "725c2a5a",
      "metadata": {
        "id": "725c2a5a"
      },
      "outputs": [],
      "source": [
        "def monotonicCheck(array):\n",
        "    flag = True\n",
        "    \n",
        "    if array[0] >= array[len(array)-1]:\n",
        "        for i in range(len(array)-2):\n",
        "            if array[i] < array[i+1]:\n",
        "                flag = False\n",
        "    else:\n",
        "        for i in range(len(array)-2):\n",
        "            if array[i] > array[i+1]:\n",
        "                flag = False\n",
        "                \n",
        "    return flag"
      ]
    },
    {
      "cell_type": "code",
      "execution_count": null,
      "id": "fe90a579",
      "metadata": {
        "id": "fe90a579",
        "outputId": "cdd07da0-0821-4c93-8fa1-57a921d644ef"
      },
      "outputs": [
        {
          "data": {
            "text/plain": [
              "True"
            ]
          },
          "execution_count": 28,
          "metadata": {},
          "output_type": "execute_result"
        }
      ],
      "source": [
        "array = [1,2,3,56, 124, 369]\n",
        "\n",
        "monotonicCheck(array)"
      ]
    },
    {
      "cell_type": "code",
      "execution_count": null,
      "id": "1fbbfb98",
      "metadata": {
        "id": "1fbbfb98",
        "outputId": "52c701e7-135e-4df6-f78d-0b005cadd876"
      },
      "outputs": [
        {
          "data": {
            "text/plain": [
              "True"
            ]
          },
          "execution_count": 29,
          "metadata": {},
          "output_type": "execute_result"
        }
      ],
      "source": [
        "array = [123,43, 12, 2, -23,-345]\n",
        "monotonicCheck(array)"
      ]
    },
    {
      "cell_type": "code",
      "execution_count": null,
      "id": "0f0bd296",
      "metadata": {
        "id": "0f0bd296",
        "outputId": "9ad5f1cc-7109-44ec-dc80-5b10cfba5462"
      },
      "outputs": [
        {
          "data": {
            "text/plain": [
              "False"
            ]
          },
          "execution_count": 30,
          "metadata": {},
          "output_type": "execute_result"
        }
      ],
      "source": [
        "array = [123,-23, 783, -98,0, 12]\n",
        "monotonicCheck(array)"
      ]
    },
    {
      "cell_type": "code",
      "execution_count": 72,
      "id": "809e09e1",
      "metadata": {
        "colab": {
          "base_uri": "https://localhost:8080/"
        },
        "id": "809e09e1",
        "outputId": "0fae104d-7cde-4890-fdd5-e6f413dabb8c"
      },
      "outputs": [
        {
          "output_type": "execute_result",
          "data": {
            "text/plain": [
              "False"
            ]
          },
          "metadata": {},
          "execution_count": 72
        }
      ],
      "source": [
        "array = [123,-23, 783, -98,0, 12]\n",
        "# array = [1,2,3,56, 124, 369]\n",
        "array_2 = array.copy()\n",
        "def monotonic(arr):\n",
        "  for i in range(len(arr)):\n",
        "    for j in range(i+1,len(arr)):\n",
        "      if arr[j]>arr[i]:\n",
        "        arr[i],arr[j] = arr[j],arr[i]\n",
        "  if array_2==array or array_2==array[::-1]:\n",
        "    return True\n",
        "  else:\n",
        "    return False\n",
        "monotonic(array)"
      ]
    },
    {
      "cell_type": "code",
      "source": [],
      "metadata": {
        "id": "lwvNLmU5fYmd"
      },
      "id": "lwvNLmU5fYmd",
      "execution_count": null,
      "outputs": []
    }
  ],
  "metadata": {
    "kernelspec": {
      "display_name": "Python 3 (ipykernel)",
      "language": "python",
      "name": "python3"
    },
    "language_info": {
      "codemirror_mode": {
        "name": "ipython",
        "version": 3
      },
      "file_extension": ".py",
      "mimetype": "text/x-python",
      "name": "python",
      "nbconvert_exporter": "python",
      "pygments_lexer": "ipython3",
      "version": "3.9.7"
    },
    "colab": {
      "provenance": []
    }
  },
  "nbformat": 4,
  "nbformat_minor": 5
}