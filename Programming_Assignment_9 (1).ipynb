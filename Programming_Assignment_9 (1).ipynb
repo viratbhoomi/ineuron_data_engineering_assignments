{
  "cells": [
    {
      "cell_type": "markdown",
      "id": "47b9bb99",
      "metadata": {
        "id": "47b9bb99"
      },
      "source": [
        "## Programming Assignment_9\n",
        "----------------"
      ]
    },
    {
      "cell_type": "markdown",
      "id": "c725f7a9",
      "metadata": {
        "id": "c725f7a9"
      },
      "source": [
        "### 1. Write a Python program to check if the given number is a Disarium Number?\n",
        "##### ans:"
      ]
    },
    {
      "cell_type": "code",
      "execution_count": null,
      "id": "00495e5f",
      "metadata": {
        "id": "00495e5f"
      },
      "outputs": [],
      "source": [
        "def task1(num):\n",
        "    \n",
        "    try:\n",
        "        if type(num) != int:\n",
        "            raise Exception(\"Not an integer\")\n",
        "            \n",
        "        num = str(num)\n",
        "        total = 0\n",
        "        for i in range(0, len(num)):\n",
        "            n = int(num[i])\n",
        "            n = n**(i+1)\n",
        "            total = total + n\n",
        "\n",
        "        if total == int(num):\n",
        "            return True\n",
        "        else:\n",
        "            return False\n",
        "\n",
        "    except Exception as e:\n",
        "        print(e)\n",
        "        "
      ]
    },
    {
      "cell_type": "code",
      "source": [],
      "metadata": {
        "id": "XaYax9xqgagx"
      },
      "id": "XaYax9xqgagx",
      "execution_count": null,
      "outputs": []
    },
    {
      "cell_type": "code",
      "execution_count": null,
      "id": "66cea9d7",
      "metadata": {
        "id": "66cea9d7",
        "outputId": "c50a1014-bd25-4b19-aa35-ee7c670a24e8"
      },
      "outputs": [
        {
          "data": {
            "text/plain": [
              "False"
            ]
          },
          "execution_count": 49,
          "metadata": {},
          "output_type": "execute_result"
        }
      ],
      "source": [
        "task1(147)"
      ]
    },
    {
      "cell_type": "code",
      "execution_count": null,
      "id": "eb99b411",
      "metadata": {
        "id": "eb99b411",
        "outputId": "053f0156-10e5-45f2-a1ba-6aa8a587ef12"
      },
      "outputs": [
        {
          "data": {
            "text/plain": [
              "True"
            ]
          },
          "execution_count": 52,
          "metadata": {},
          "output_type": "execute_result"
        }
      ],
      "source": [
        "task1(135)"
      ]
    },
    {
      "cell_type": "code",
      "source": [
        "def Disarium_Number(num):\n",
        "  y = 0\n",
        "  for i in range(len(num)):\n",
        "    y += pow(int(num[i]),i+1)\n",
        "  if int(num) == y:\n",
        "    return True\n",
        "  else:\n",
        "    return False\n",
        "num = input(\"Enter the number you want to check: \")\n",
        "Disarium_Number(num)\n",
        "\n",
        "\n",
        "\n"
      ],
      "metadata": {
        "id": "3vJr4gHFgcF-",
        "colab": {
          "base_uri": "https://localhost:8080/"
        },
        "outputId": "85a06c07-0eeb-48db-a728-deb72644d739"
      },
      "id": "3vJr4gHFgcF-",
      "execution_count": 25,
      "outputs": [
        {
          "name": "stdout",
          "output_type": "stream",
          "text": [
            "Enter the number you want to check: 147\n"
          ]
        },
        {
          "output_type": "execute_result",
          "data": {
            "text/plain": [
              "False"
            ]
          },
          "metadata": {},
          "execution_count": 25
        }
      ]
    },
    {
      "cell_type": "markdown",
      "id": "f0064401",
      "metadata": {
        "id": "f0064401"
      },
      "source": [
        "---------------------------\n",
        "### 2. Write a Python program to print all disarium numbers between 1 to 100?\n",
        "##### ans:"
      ]
    },
    {
      "cell_type": "code",
      "execution_count": null,
      "id": "78e6ba38",
      "metadata": {
        "id": "78e6ba38",
        "outputId": "a292b3f2-5ffa-45c8-f9ad-b4718e5cbd65"
      },
      "outputs": [
        {
          "name": "stdout",
          "output_type": "stream",
          "text": [
            "1 2 3 4 5 6 7 8 9 89 "
          ]
        }
      ],
      "source": [
        "for i in range(1, 101):\n",
        "    if task1(i) == True:\n",
        "        print(i, end = ' ')"
      ]
    },
    {
      "cell_type": "code",
      "source": [
        "def Disarium_Number(num):\n",
        "  y = 0\n",
        "  for i in range(len(num)):\n",
        "    y += pow(int(num[i]),i+1)\n",
        "  if int(num) == y:\n",
        "    return True\n",
        "  else:\n",
        "    False\n",
        "for i in range(1, 101):\n",
        "    if Disarium_Number(str(i)) == True:\n",
        "        print(i, end = ' ')\n",
        "\n"
      ],
      "metadata": {
        "colab": {
          "base_uri": "https://localhost:8080/"
        },
        "id": "ZvdLUcnAcwQ2",
        "outputId": "2805f8a4-cdcc-4841-91bd-ab2c07c54a36"
      },
      "id": "ZvdLUcnAcwQ2",
      "execution_count": 67,
      "outputs": [
        {
          "output_type": "stream",
          "name": "stdout",
          "text": [
            "1 2 3 4 5 6 7 8 9 89 "
          ]
        }
      ]
    },
    {
      "cell_type": "markdown",
      "id": "31df1e4a",
      "metadata": {
        "id": "31df1e4a"
      },
      "source": [
        "---------------------------\n",
        "### 3. Write a Python program to check if the given number is Happy Number?\n",
        "##### ans:"
      ]
    },
    {
      "cell_type": "code",
      "execution_count": 68,
      "id": "c274693d",
      "metadata": {
        "id": "c274693d"
      },
      "outputs": [],
      "source": [
        "def task3(num):\n",
        "\n",
        "    res = num; \n",
        "    def isHappy(num):    \n",
        "        r = 0;  \n",
        "        s = 0\n",
        "        while(num > 0):    \n",
        "            r = num%10    \n",
        "            s += r**2  \n",
        "            num //= 10    \n",
        "        return s     \n",
        "\n",
        "    while(res != 1 and res != 4):    \n",
        "        res = isHappy(res)    \n",
        "\n",
        "    if(res == 1):    \n",
        "        return True\n",
        "    elif(res == 4):    \n",
        "        return False"
      ]
    },
    {
      "cell_type": "code",
      "execution_count": null,
      "id": "ccd2f0ac",
      "metadata": {
        "id": "ccd2f0ac",
        "outputId": "859947c8-1018-453a-e379-4dcd871c2755"
      },
      "outputs": [
        {
          "data": {
            "text/plain": [
              "True"
            ]
          },
          "execution_count": 65,
          "metadata": {},
          "output_type": "execute_result"
        }
      ],
      "source": [
        "task3(100)"
      ]
    },
    {
      "cell_type": "code",
      "execution_count": null,
      "id": "e85174db",
      "metadata": {
        "id": "e85174db",
        "outputId": "6568429f-f50a-4396-8567-f660ba3a6c16"
      },
      "outputs": [
        {
          "data": {
            "text/plain": [
              "False"
            ]
          },
          "execution_count": 66,
          "metadata": {},
          "output_type": "execute_result"
        }
      ],
      "source": [
        "task3(4)"
      ]
    },
    {
      "cell_type": "code",
      "source": [
        "def Happy_Number(num):\n",
        "  t = []\n",
        "  while True:\n",
        "    if int(num) !=1 and int(num) not in t:\n",
        "      t.append(int(num))\n",
        "      x = 0\n",
        "      for i in range(len(num)):\n",
        "        x = x+pow(int(num[i]),2)\n",
        "      num = str(x)\n",
        "    elif int(num)==1:\n",
        "      print(True)\n",
        "      break\n",
        "    else:\n",
        "      print(False)\n",
        "      break\n",
        "num = input(\"Enter a number to check Happy Number or Not: \")\n",
        "Happy_Number(num)  "
      ],
      "metadata": {
        "colab": {
          "base_uri": "https://localhost:8080/"
        },
        "id": "G2dxeA2zPzCD",
        "outputId": "f23e31e1-fe19-4f93-bcfd-89b236f5ea26"
      },
      "id": "G2dxeA2zPzCD",
      "execution_count": 159,
      "outputs": [
        {
          "output_type": "stream",
          "name": "stdout",
          "text": [
            "Enter a number to check Happy Number or Not: 100\n",
            "True\n"
          ]
        }
      ]
    },
    {
      "cell_type": "markdown",
      "id": "51b265e3",
      "metadata": {
        "id": "51b265e3"
      },
      "source": [
        "---------------------------\n",
        "### 4. Write a Python program to print all happy numbers between 1 and 100?\n",
        "##### ans:"
      ]
    },
    {
      "cell_type": "code",
      "execution_count": 69,
      "id": "dd776994",
      "metadata": {
        "id": "dd776994",
        "outputId": "2f946dcb-33d0-4561-e57f-16f6b42e429d",
        "colab": {
          "base_uri": "https://localhost:8080/"
        }
      },
      "outputs": [
        {
          "output_type": "stream",
          "name": "stdout",
          "text": [
            "1 7 10 13 19 23 28 31 32 44 49 68 70 79 82 86 91 94 97 100 "
          ]
        }
      ],
      "source": [
        "for i in range(1, 101):\n",
        "    if task3(i) == True:\n",
        "        print(i, end = ' ')"
      ]
    },
    {
      "cell_type": "code",
      "source": [
        "def Happy_Number(num):\n",
        "  t = []\n",
        "  while True:\n",
        "    if int(num) !=1 and int(num) not in t:\n",
        "      t.append(int(num))\n",
        "      x = 0\n",
        "      for i in range(len(num)):\n",
        "        x = x+pow(int(num[i]),2)\n",
        "      num = str(x)\n",
        "    elif int(num)==1:\n",
        "      return True\n",
        "      break\n",
        "    else:\n",
        "      return False\n",
        "      break\n",
        "# num = input(\"Enter a number to check Happy Number or Not: \")\n",
        "Happy_Number(num)\n",
        "for i in range(1, 101):\n",
        "    if Happy_Number(str(i)) == True:\n",
        "        print(i, end = ' ')"
      ],
      "metadata": {
        "colab": {
          "base_uri": "https://localhost:8080/"
        },
        "id": "TU6bffHIeCJN",
        "outputId": "ff701fa0-a2bc-4eea-b780-c83513213488"
      },
      "id": "TU6bffHIeCJN",
      "execution_count": 89,
      "outputs": [
        {
          "output_type": "stream",
          "name": "stdout",
          "text": [
            "1 7 10 13 19 23 28 31 32 44 49 68 70 79 82 86 91 94 97 100 "
          ]
        }
      ]
    },
    {
      "cell_type": "markdown",
      "id": "6a190ee0",
      "metadata": {
        "id": "6a190ee0"
      },
      "source": [
        "---------------------------\n",
        "### 5. Write a Python program to determine whether the given number is a Harshad Number?\n",
        "##### ans:"
      ]
    },
    {
      "cell_type": "code",
      "execution_count": null,
      "id": "9a8d5472",
      "metadata": {
        "id": "9a8d5472"
      },
      "outputs": [],
      "source": [
        "def task5(num):\n",
        "    temp = num\n",
        "    total = 0\n",
        "    while (temp > 0):\n",
        "        total = total + (temp%10)\n",
        "        temp = temp//10\n",
        "        \n",
        "    if num%total==0:\n",
        "        print(\"Harshad Number\")\n",
        "    else:\n",
        "        print(\"Not Harshad Number\")"
      ]
    },
    {
      "cell_type": "code",
      "execution_count": null,
      "id": "41926598",
      "metadata": {
        "id": "41926598",
        "outputId": "bab62968-05af-42d3-8fac-8b1bf3eb9bfd"
      },
      "outputs": [
        {
          "name": "stdout",
          "output_type": "stream",
          "text": [
            "Harshad Number\n"
          ]
        }
      ],
      "source": [
        "task5(156)"
      ]
    },
    {
      "cell_type": "code",
      "execution_count": null,
      "id": "1d1e9a6f",
      "metadata": {
        "id": "1d1e9a6f",
        "outputId": "6cb2ffb1-09dd-4470-f96f-5a7df7fa5a04"
      },
      "outputs": [
        {
          "name": "stdout",
          "output_type": "stream",
          "text": [
            "Not Harshad Number\n"
          ]
        }
      ],
      "source": [
        "task5(113)"
      ]
    },
    {
      "cell_type": "code",
      "source": [
        "def Harshad_Number(num):\n",
        "  num = str(num)\n",
        "  hn = 0\n",
        "  for i in range(len(num)):\n",
        "    hn += int(num[i])\n",
        "  if int(num)%hn==0:\n",
        "    print(\"Harshad Number\")\n",
        "  else:\n",
        "    print(\"Not Harshad Number\")\n",
        "  \n",
        "num = int(input(\"Enter the value to check Harshad Number or not: \"))\n",
        "Harshad_Number(num)"
      ],
      "metadata": {
        "colab": {
          "base_uri": "https://localhost:8080/"
        },
        "id": "bF75dquEmqRT",
        "outputId": "41e9c9c6-9a9f-4381-fa03-ab93506f88a7"
      },
      "id": "bF75dquEmqRT",
      "execution_count": 158,
      "outputs": [
        {
          "output_type": "stream",
          "name": "stdout",
          "text": [
            "Enter the value to check Harshad Number or not: 113\n",
            "Not Harshad Number\n"
          ]
        }
      ]
    },
    {
      "cell_type": "markdown",
      "id": "7a7ea92e",
      "metadata": {
        "id": "7a7ea92e"
      },
      "source": [
        "---------------------------\n",
        "### 6. Write a Python program to print all pronic numbers between 1 and 100?\n",
        "##### ans:"
      ]
    },
    {
      "cell_type": "code",
      "execution_count": null,
      "id": "936ca4b3",
      "metadata": {
        "id": "936ca4b3",
        "outputId": "d43acc38-a924-49ad-e5d3-8f8126106548"
      },
      "outputs": [
        {
          "name": "stdout",
          "output_type": "stream",
          "text": [
            "0 2 6 12 20 30 42 56 72 90 "
          ]
        }
      ],
      "source": [
        "i = 0\n",
        "while True:\n",
        "    pronicNum = i*(i+1)\n",
        "    i = i + 1\n",
        "    if pronicNum > 100:\n",
        "        break\n",
        "    print(pronicNum, end = ' ')\n",
        "    "
      ]
    },
    {
      "cell_type": "code",
      "execution_count": 155,
      "id": "05a27075",
      "metadata": {
        "id": "05a27075",
        "colab": {
          "base_uri": "https://localhost:8080/"
        },
        "outputId": "dee8f8c1-f5d9-4bef-a5a1-7be9fdffa8e2"
      },
      "outputs": [
        {
          "output_type": "stream",
          "name": "stdout",
          "text": [
            "0 2 6 12 20 30 42 56 72 90\n"
          ]
        }
      ],
      "source": [
        "def pronic_number(num):\n",
        "  lst = [0,]\n",
        "  for i in range(num):\n",
        "    for  j in range(i):\n",
        "      if j*(j+1)==i:\n",
        "        lst.append(i)\n",
        "  print(*lst)\n",
        "pronic_number(101)\n",
        "    "
      ]
    },
    {
      "cell_type": "code",
      "source": [],
      "metadata": {
        "id": "EI56aboZumi3"
      },
      "id": "EI56aboZumi3",
      "execution_count": null,
      "outputs": []
    }
  ],
  "metadata": {
    "kernelspec": {
      "display_name": "Python 3 (ipykernel)",
      "language": "python",
      "name": "python3"
    },
    "language_info": {
      "codemirror_mode": {
        "name": "ipython",
        "version": 3
      },
      "file_extension": ".py",
      "mimetype": "text/x-python",
      "name": "python",
      "nbconvert_exporter": "python",
      "pygments_lexer": "ipython3",
      "version": "3.9.7"
    },
    "colab": {
      "provenance": []
    }
  },
  "nbformat": 4,
  "nbformat_minor": 5
}