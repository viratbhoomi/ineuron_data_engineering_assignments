{
  "cells": [
    {
      "cell_type": "markdown",
      "id": "9b304197",
      "metadata": {
        "id": "9b304197"
      },
      "source": [
        "# Python Basic Programming Assignment 8"
      ]
    },
    {
      "cell_type": "markdown",
      "id": "22789ae6",
      "metadata": {
        "id": "22789ae6"
      },
      "source": [
        "-------------\n",
        "### 1. Write a Python Program to Add Two Matrices?\n"
      ]
    },
    {
      "cell_type": "code",
      "execution_count": null,
      "id": "f26dd3f3",
      "metadata": {
        "id": "f26dd3f3"
      },
      "outputs": [],
      "source": [
        "mat1 = [[1,2,3],\n",
        "        [6, -4, -9],\n",
        "        [3,6,9]]\n",
        "\n",
        "mat2 = [[6,9,3],\n",
        "        [1,-1,1],\n",
        "        [0, 9, 11]]"
      ]
    },
    {
      "cell_type": "code",
      "execution_count": null,
      "id": "dbb4e4ba",
      "metadata": {
        "id": "dbb4e4ba",
        "outputId": "11c1b947-fed5-47f9-9756-3884299fd01f"
      },
      "outputs": [
        {
          "data": {
            "text/plain": [
              "[[7, 11, 6], [7, -5, -8], [3, 15, 20]]"
            ]
          },
          "execution_count": 18,
          "metadata": {},
          "output_type": "execute_result"
        }
      ],
      "source": [
        "result = []\n",
        "\n",
        "for i in range(len(mat1)):\n",
        "    row = []\n",
        "    for j in range(len(mat1)):\n",
        "        row.append(mat1[i][j]+mat2[i][j])\n",
        "        \n",
        "    result.append(row)\n",
        "    \n",
        "result"
      ]
    },
    {
      "cell_type": "code",
      "source": [
        "mat1 = [[1,2,3],\n",
        "        [6, -4, -9],\n",
        "        [3,6,9]]\n",
        "\n",
        "mat2 = [[6,9,3],\n",
        "        [1,-1,1],\n",
        "        [0, 9, 11]]\n",
        "mat3 = []\n",
        "\n",
        "for i in range(len(mat1)):\n",
        "  mat3.append([])\n",
        "  for j in range(len(mat1)):\n",
        "    mat3[i].append(mat1[i][j]+mat2[i][j])\n",
        "print(mat3)"
      ],
      "metadata": {
        "colab": {
          "base_uri": "https://localhost:8080/"
        },
        "id": "d7ulz6MrCJW8",
        "outputId": "30336610-a38f-40d8-e25a-c38db88a1330"
      },
      "id": "d7ulz6MrCJW8",
      "execution_count": 33,
      "outputs": [
        {
          "output_type": "stream",
          "name": "stdout",
          "text": [
            "[[7, 11, 6], [7, -5, -8], [3, 15, 20]]\n"
          ]
        }
      ]
    },
    {
      "cell_type": "code",
      "source": [],
      "metadata": {
        "id": "BaAzU60BCKVZ"
      },
      "id": "BaAzU60BCKVZ",
      "execution_count": 33,
      "outputs": []
    },
    {
      "cell_type": "markdown",
      "id": "044ceda6",
      "metadata": {
        "id": "044ceda6"
      },
      "source": [
        "-------------\n",
        "### 2. Write a Python Program to Multiply Two Matrices?"
      ]
    },
    {
      "cell_type": "code",
      "execution_count": null,
      "id": "334d6268",
      "metadata": {
        "id": "334d6268",
        "outputId": "37600db2-2bbc-431f-edd7-d1912658fef9"
      },
      "outputs": [
        {
          "name": "stdout",
          "output_type": "stream",
          "text": [
            "[114, 160, 60, 27]\n",
            "[74, 97, 73, 14]\n",
            "[119, 157, 112, 23]\n"
          ]
        }
      ],
      "source": [
        "# Take 3x3 matrix\n",
        "A = [[12, 7, 3],\n",
        "    [4, 5, 6],\n",
        "    [7, 8, 9]]\n",
        "\n",
        "B = [[5, 8, 1, 2],\n",
        "    [6, 7, 3, 0],\n",
        "    [4, 5, 9, 1]]\n",
        "\n",
        "result = [[0, 0, 0, 0],\n",
        "        [0, 0, 0, 0],\n",
        "        [0, 0, 0, 0]]\n",
        "\n",
        "for i in range(len(A)):\n",
        "    for j in range(len(B[0])):\n",
        "        for k in range(len(B)):\n",
        "            result[i][j] += A[i][k] * B[k][j]\n",
        "\n",
        "for r in result:\n",
        "    print(r)\n"
      ]
    },
    {
      "cell_type": "code",
      "source": [
        "A = [[12, 7, 3],\n",
        "    [4, 5, 6],\n",
        "    [7, 8, 9]]\n",
        "\n",
        "B = [[5, 8, 1, 2],\n",
        "    [6, 7, 3, 0],\n",
        "    [4, 5, 9, 1]]\n",
        "\n",
        "result = [[0, 0, 0, 0],\n",
        "        [0, 0, 0, 0],\n",
        "        [0, 0, 0, 0]]\n",
        "\n",
        "import numpy as np\n",
        "result = np.dot(A,B)\n",
        "print(result)\n"
      ],
      "metadata": {
        "colab": {
          "base_uri": "https://localhost:8080/"
        },
        "id": "ZZaozE6VPM_L",
        "outputId": "4b9367f7-0dcd-4703-a67b-3e63ea12096f"
      },
      "id": "ZZaozE6VPM_L",
      "execution_count": 37,
      "outputs": [
        {
          "output_type": "stream",
          "name": "stdout",
          "text": [
            "[[114 160  60  27]\n",
            " [ 74  97  73  14]\n",
            " [119 157 112  23]]\n"
          ]
        }
      ]
    },
    {
      "cell_type": "markdown",
      "id": "5f688e46",
      "metadata": {
        "id": "5f688e46"
      },
      "source": [
        "-------------\n",
        "### 3. Write a Python Program to Transpose a Matrix?"
      ]
    },
    {
      "cell_type": "code",
      "execution_count": 38,
      "id": "a6af3f54",
      "metadata": {
        "colab": {
          "base_uri": "https://localhost:8080/"
        },
        "id": "a6af3f54",
        "outputId": "957b120a-eed2-4a58-dc3c-f00cb192332b"
      },
      "outputs": [
        {
          "output_type": "stream",
          "name": "stdout",
          "text": [
            "[12, 4, 3]\n",
            "[7, 5, 8]\n"
          ]
        }
      ],
      "source": [
        "# Program to transpose a matrix using a nested loop\n",
        "\n",
        "X = [[12,7],\n",
        "    [4 ,5],\n",
        "    [3 ,8]]\n",
        "\n",
        "result = [[0,0,0],\n",
        "         [0,0,0]]\n",
        "\n",
        "# iterating through rows\n",
        "for i in range(len(X)):\n",
        "   # iterating through columns\n",
        "   for j in range(len(X[0])):\n",
        "        result[j][i] = X[i][j]\n",
        "\n",
        "for r in result:\n",
        "    print(r)\n"
      ]
    },
    {
      "cell_type": "code",
      "source": [
        "import numpy as np\n",
        "X = [[12,7],\n",
        "    [4 ,5],\n",
        "    [3 ,8]]\n",
        "\n",
        "result = [[0,0,0],\n",
        "         [0,0,0]]\n",
        "X = np.array(X)\n",
        "result = X.transpose()\n",
        "print(result)\n",
        "    "
      ],
      "metadata": {
        "colab": {
          "base_uri": "https://localhost:8080/"
        },
        "id": "K2HybkL6Z9mg",
        "outputId": "36a06ae7-c93b-43f9-d2d8-f8c307995728"
      },
      "id": "K2HybkL6Z9mg",
      "execution_count": 42,
      "outputs": [
        {
          "output_type": "stream",
          "name": "stdout",
          "text": [
            "[[12  4  3]\n",
            " [ 7  5  8]]\n"
          ]
        }
      ]
    },
    {
      "cell_type": "markdown",
      "id": "b2849025",
      "metadata": {
        "id": "b2849025"
      },
      "source": [
        "------------------\n",
        "### 4. Write a Python Program to Sort Words in Alphabetic Order?\n"
      ]
    },
    {
      "cell_type": "code",
      "execution_count": null,
      "id": "c030bfb6",
      "metadata": {
        "id": "c030bfb6",
        "outputId": "7e48339c-d831-4582-d106-3b33c51727df"
      },
      "outputs": [
        {
          "name": "stdout",
          "output_type": "stream",
          "text": [
            "Enter the words: This is task from the Assignment\n",
            "Sorted order of words:\n",
            "assignment from is task the this "
          ]
        }
      ],
      "source": [
        "try:\n",
        "    sentance = input(\"Enter the words: \")\n",
        "    words = [word.lower() for word in sentance.split()]\n",
        "    words.sort()\n",
        "    \n",
        "    print(\"Sorted order of words:\")\n",
        "    for word in words:\n",
        "        print(word, end = ' ')\n",
        "    \n",
        "except Exception as e:\n",
        "    print(e)"
      ]
    },
    {
      "cell_type": "code",
      "source": [
        "\n",
        "x = \"This is task from the Assignment\"\n",
        "x = x.lower().split(\" \")\n",
        "for i in sorted(x):\n",
        "  print(i,end=\" \")\n"
      ],
      "metadata": {
        "colab": {
          "base_uri": "https://localhost:8080/"
        },
        "id": "SqVh2IHPb81Q",
        "outputId": "cdc82a04-21c1-4726-84e7-ea7aff5df722"
      },
      "id": "SqVh2IHPb81Q",
      "execution_count": 61,
      "outputs": [
        {
          "output_type": "stream",
          "name": "stdout",
          "text": [
            "assignment from is task the this "
          ]
        }
      ]
    },
    {
      "cell_type": "markdown",
      "id": "48ac7b24",
      "metadata": {
        "id": "48ac7b24"
      },
      "source": [
        "-----------------\n",
        "### 5. Write a Python Program to Remove Punctuation From a String?"
      ]
    },
    {
      "cell_type": "code",
      "execution_count": null,
      "id": "6c7b2c63",
      "metadata": {
        "id": "6c7b2c63",
        "outputId": "13d2b4ae-3ac3-4de1-a73a-59c7f5983d0a"
      },
      "outputs": [
        {
          "name": "stdout",
          "output_type": "stream",
          "text": [
            "Enter the string: Hello, World!!! <HTML> c++; {braces} \\/!@##^&*()( Ending the string now.\n",
            "Hello World HTML c++ braces  Ending the string now\n"
          ]
        }
      ],
      "source": [
        "punctuations = '''!()-[]{};:'\"\\,<>./?@#$%^&*_~'''\n",
        "\n",
        "string = input(\"Enter the string: \")\n",
        "\n",
        "outputString = \"\"\n",
        "\n",
        "for char in string:\n",
        "    if char not in punctuations:\n",
        "        outputString += char\n",
        "        \n",
        "print(outputString)"
      ]
    },
    {
      "cell_type": "code",
      "execution_count": null,
      "id": "111bb7ad",
      "metadata": {
        "id": "111bb7ad"
      },
      "outputs": [],
      "source": []
    }
  ],
  "metadata": {
    "kernelspec": {
      "display_name": "Python 3 (ipykernel)",
      "language": "python",
      "name": "python3"
    },
    "language_info": {
      "codemirror_mode": {
        "name": "ipython",
        "version": 3
      },
      "file_extension": ".py",
      "mimetype": "text/x-python",
      "name": "python",
      "nbconvert_exporter": "python",
      "pygments_lexer": "ipython3",
      "version": "3.9.7"
    },
    "colab": {
      "provenance": []
    }
  },
  "nbformat": 4,
  "nbformat_minor": 5
}