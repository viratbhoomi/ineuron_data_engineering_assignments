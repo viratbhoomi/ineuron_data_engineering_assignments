{
  "cells": [
    {
      "cell_type": "markdown",
      "id": "3dcb940f",
      "metadata": {
        "id": "3dcb940f"
      },
      "source": [
        "## Python Basic Programming Assignment 10"
      ]
    },
    {
      "cell_type": "markdown",
      "id": "6720790a",
      "metadata": {
        "id": "6720790a"
      },
      "source": [
        "### 1. Write a Python program to find sum of elements in list?"
      ]
    },
    {
      "cell_type": "code",
      "execution_count": null,
      "id": "533f67cc",
      "metadata": {
        "id": "533f67cc",
        "outputId": "0c98d185-3eb2-436e-a091-ca121a8171ad"
      },
      "outputs": [
        {
          "name": "stdout",
          "output_type": "stream",
          "text": [
            "25\n"
          ]
        }
      ],
      "source": [
        "l = [2, 4, 1, 5, 6, 7]\n",
        "\n",
        "total = 0\n",
        "for i in l:\n",
        "    total += i\n",
        "    \n",
        "print(total)"
      ]
    },
    {
      "cell_type": "code",
      "source": [
        "from functools import reduce\n",
        "lst = [2,4,1,5,6,7]\n",
        "print(\"The sum of the elements in the list is: \",reduce(lambda a,b: a+b,lst))\n"
      ],
      "metadata": {
        "colab": {
          "base_uri": "https://localhost:8080/"
        },
        "id": "0d57u_Bh4_HD",
        "outputId": "4b823cf1-ed17-443b-dc19-c652eb974e44"
      },
      "id": "0d57u_Bh4_HD",
      "execution_count": 3,
      "outputs": [
        {
          "output_type": "stream",
          "name": "stdout",
          "text": [
            "The sum of the elements in the list is:  25\n"
          ]
        }
      ]
    },
    {
      "cell_type": "markdown",
      "id": "fe1137c3",
      "metadata": {
        "id": "fe1137c3"
      },
      "source": [
        "### 2. Write a Python program to  Multiply all numbers in the list?"
      ]
    },
    {
      "cell_type": "code",
      "execution_count": null,
      "id": "fe22cfb0",
      "metadata": {
        "id": "fe22cfb0",
        "outputId": "0e59da21-1dbc-4c84-d189-73ad162fbc1e"
      },
      "outputs": [
        {
          "name": "stdout",
          "output_type": "stream",
          "text": [
            "1680\n"
          ]
        }
      ],
      "source": [
        "l = [2, 4, 1, 5, 6, 7]\n",
        "\n",
        "mul = 1\n",
        "for i in l:\n",
        "    mul *= i\n",
        "    \n",
        "print(mul)"
      ]
    },
    {
      "cell_type": "code",
      "source": [
        "from functools import reduce\n",
        "lst = [2,4,1,5,6,7]\n",
        "print(\"The product of the elements in the list is: \",reduce(lambda a,b: a*b,lst))"
      ],
      "metadata": {
        "colab": {
          "base_uri": "https://localhost:8080/"
        },
        "id": "oKgxu3yH6SLq",
        "outputId": "3aa36ee4-d187-4ee7-e770-40c1b165de1a"
      },
      "id": "oKgxu3yH6SLq",
      "execution_count": 4,
      "outputs": [
        {
          "output_type": "stream",
          "name": "stdout",
          "text": [
            "The product of the elements in the list is:  1680\n"
          ]
        }
      ]
    },
    {
      "cell_type": "markdown",
      "id": "078681db",
      "metadata": {
        "id": "078681db"
      },
      "source": [
        "### 3. Write a Python program to find smallest number in a list?"
      ]
    },
    {
      "cell_type": "code",
      "execution_count": null,
      "id": "2ca471f8",
      "metadata": {
        "id": "2ca471f8",
        "outputId": "2f8b516a-e909-4e47-f0c9-ca744ce78715"
      },
      "outputs": [
        {
          "name": "stdout",
          "output_type": "stream",
          "text": [
            "-7123\n"
          ]
        }
      ],
      "source": [
        "l = [2, 0, 1, 1235, 6, -7123]\n",
        "\n",
        "minimum = l[0]\n",
        "for i in l:\n",
        "    if i < minimum:\n",
        "        minimum = i\n",
        "        \n",
        "print(minimum)"
      ]
    },
    {
      "cell_type": "code",
      "source": [
        "lst = [2, 0, 1, 1235, 6, -7123]\n",
        "for i in range(len(lst)):\n",
        "  for j in range(i,len(lst)):\n",
        "    if lst[j] < lst[i]:\n",
        "      lst[i],lst[j] = lst[j],lst[i]\n",
        "print(\"The smallest element in the list is: \",lst[0])"
      ],
      "metadata": {
        "colab": {
          "base_uri": "https://localhost:8080/"
        },
        "id": "PcDcz28W6YHJ",
        "outputId": "99860eb5-982b-4831-dcf1-711ab0dc7fe3"
      },
      "id": "PcDcz28W6YHJ",
      "execution_count": 16,
      "outputs": [
        {
          "output_type": "stream",
          "name": "stdout",
          "text": [
            "The smallest element in the list is:  -7123\n"
          ]
        }
      ]
    },
    {
      "cell_type": "markdown",
      "id": "12b04397",
      "metadata": {
        "id": "12b04397"
      },
      "source": [
        "### 4. Write a Python program to find largest number in a list?"
      ]
    },
    {
      "cell_type": "code",
      "execution_count": null,
      "id": "76437f44",
      "metadata": {
        "id": "76437f44",
        "outputId": "1ff7b483-4e83-49bc-f1f9-0103241a6bc2"
      },
      "outputs": [
        {
          "name": "stdout",
          "output_type": "stream",
          "text": [
            "1235\n"
          ]
        }
      ],
      "source": [
        "l = [2, 0, 1, 1235, 6, -7123]\n",
        "\n",
        "maximum = l[0]\n",
        "for i in l:\n",
        "    if i > maximum:\n",
        "        maximum = i\n",
        "        \n",
        "print(maximum)"
      ]
    },
    {
      "cell_type": "code",
      "source": [
        "lst = [2, 0, 1, 1235, 6, -7123]\n",
        "for i in range(len(lst)):\n",
        "  for j in range(i,len(lst)):\n",
        "    if lst[j] > lst[i]:\n",
        "      lst[i],lst[j] = lst[j],lst[i]\n",
        "print(\"The largest element in the list is: \",lst[0])"
      ],
      "metadata": {
        "colab": {
          "base_uri": "https://localhost:8080/"
        },
        "id": "jl93qkmF9iL4",
        "outputId": "6f68f694-755b-41ea-b27f-240928dcebf6"
      },
      "id": "jl93qkmF9iL4",
      "execution_count": 17,
      "outputs": [
        {
          "output_type": "stream",
          "name": "stdout",
          "text": [
            "The largest element in the list is:  1235\n"
          ]
        }
      ]
    },
    {
      "cell_type": "markdown",
      "id": "86442b51",
      "metadata": {
        "id": "86442b51"
      },
      "source": [
        "### 5. Write a Python program to find second largest number in a list?"
      ]
    },
    {
      "cell_type": "code",
      "execution_count": null,
      "id": "4c58e34a",
      "metadata": {
        "id": "4c58e34a",
        "outputId": "80c8c94a-bf7e-45c8-89d3-9a3d8ee181b2"
      },
      "outputs": [
        {
          "name": "stdout",
          "output_type": "stream",
          "text": [
            "Second largest number: 6\n"
          ]
        }
      ],
      "source": [
        "l = [2, 0, 1, 1235, 6, -7123]\n",
        "l.sort(reverse=True)\n",
        "print(\"Second largest number:\", l[1])"
      ]
    },
    {
      "cell_type": "code",
      "source": [
        "lst = [2, 0, 1, 1235, 6, -7123]\n",
        "for i in range(len(lst)):\n",
        "  for j in range(i,len(lst)):\n",
        "    if lst[j] > lst[i]:\n",
        "      lst[i],lst[j] = lst[j],lst[i]\n",
        "print(\"The second largest element in the list is: \",lst[1])"
      ],
      "metadata": {
        "colab": {
          "base_uri": "https://localhost:8080/"
        },
        "id": "WaduCMAs9qC1",
        "outputId": "e48fe690-6387-4779-ed60-7232015e3452"
      },
      "id": "WaduCMAs9qC1",
      "execution_count": 19,
      "outputs": [
        {
          "output_type": "stream",
          "name": "stdout",
          "text": [
            "The second largest element in the list is:  6\n"
          ]
        }
      ]
    },
    {
      "cell_type": "markdown",
      "id": "10964d7d",
      "metadata": {
        "id": "10964d7d"
      },
      "source": [
        "### 6. Write a Python program to find N largest elements from a list?"
      ]
    },
    {
      "cell_type": "code",
      "execution_count": null,
      "id": "6dbaef03",
      "metadata": {
        "id": "6dbaef03"
      },
      "outputs": [],
      "source": [
        "def findLarge(lst, n):\n",
        "    \n",
        "    lst.sort(reverse = True)\n",
        "    return lst[n-1]"
      ]
    },
    {
      "cell_type": "code",
      "execution_count": null,
      "id": "024f6884",
      "metadata": {
        "id": "024f6884",
        "outputId": "60ae006a-c8f2-427e-9cce-2f44545a4572"
      },
      "outputs": [
        {
          "data": {
            "text/plain": [
              "6"
            ]
          },
          "execution_count": 19,
          "metadata": {},
          "output_type": "execute_result"
        }
      ],
      "source": [
        "# 2nd Largest Element\n",
        "\n",
        "l = [2, 0, 1, 1235, 6, -7123]\n",
        "findLarge(l, 2)"
      ]
    },
    {
      "cell_type": "code",
      "execution_count": null,
      "id": "747f6e7a",
      "metadata": {
        "id": "747f6e7a",
        "outputId": "32001580-5a1d-4004-cefc-6fd9fa1f82e6"
      },
      "outputs": [
        {
          "data": {
            "text/plain": [
              "1"
            ]
          },
          "execution_count": 20,
          "metadata": {},
          "output_type": "execute_result"
        }
      ],
      "source": [
        "# 4th Largest Element\n",
        "\n",
        "l = [2, 0, 1, 1235, 6, -7123]\n",
        "findLarge(l, 4)"
      ]
    },
    {
      "cell_type": "code",
      "source": [
        "lst = [2, 0, 1, 1235, 6, -7123]\n",
        "x = int(input(\"Enter the value: \"))\n",
        "for i in range(len(lst)):\n",
        "  for j in range(i,len(lst)):\n",
        "    if lst[j] > lst[i]:\n",
        "      lst[i],lst[j] = lst[j],lst[i]\n",
        "print(\"sorted list: \",lst)\n",
        "if x <= len(lst):\n",
        "  print(\"The\",x,\" largest element in the list is: \",lst[x-1])\n",
        "else:\n",
        "  print(\"not available\")"
      ],
      "metadata": {
        "colab": {
          "base_uri": "https://localhost:8080/"
        },
        "id": "sF8TohS6950a",
        "outputId": "3a4c8183-faa2-4747-d46b-ca422e90efa6"
      },
      "id": "sF8TohS6950a",
      "execution_count": 23,
      "outputs": [
        {
          "output_type": "stream",
          "name": "stdout",
          "text": [
            "Enter the value: 10\n",
            "sorted list:  [1235, 6, 2, 1, 0, -7123]\n",
            "not available\n"
          ]
        }
      ]
    },
    {
      "cell_type": "markdown",
      "id": "2f1a1e98",
      "metadata": {
        "id": "2f1a1e98"
      },
      "source": [
        "### 7. Write a Python program to print even numbers in a list?"
      ]
    },
    {
      "cell_type": "code",
      "execution_count": null,
      "id": "3d732576",
      "metadata": {
        "id": "3d732576",
        "outputId": "30aca1ac-30cc-4435-da7e-f6ca27a9c580"
      },
      "outputs": [
        {
          "data": {
            "text/plain": [
              "[2, 0, 6, 54, 12, -42]"
            ]
          },
          "execution_count": 23,
          "metadata": {},
          "output_type": "execute_result"
        }
      ],
      "source": [
        "l = [2, 0, 1, 1235, 6, -7123, 21, 54, 12, -23, -42]\n",
        "\n",
        "[ i for i in l if i%2 == 0]"
      ]
    },
    {
      "cell_type": "code",
      "source": [
        "l = [2, 0, 1, 1235, 6, -7123, 21, 54, 12, -23, -42]\n",
        "lst = []\n",
        "for i in l:\n",
        "  if i%2==0:\n",
        "    lst.append(i)\n",
        "print(lst)"
      ],
      "metadata": {
        "colab": {
          "base_uri": "https://localhost:8080/"
        },
        "id": "306Un0GC_A4d",
        "outputId": "1ebf83e4-32b9-4437-b655-2e590bd1d9e6"
      },
      "id": "306Un0GC_A4d",
      "execution_count": 25,
      "outputs": [
        {
          "output_type": "stream",
          "name": "stdout",
          "text": [
            "[2, 0, 6, 54, 12, -42]\n"
          ]
        }
      ]
    },
    {
      "cell_type": "markdown",
      "id": "989bb324",
      "metadata": {
        "id": "989bb324"
      },
      "source": [
        "### 8. Write a Python program to print odd numbers in a List?"
      ]
    },
    {
      "cell_type": "code",
      "execution_count": null,
      "id": "a314aada",
      "metadata": {
        "id": "a314aada",
        "outputId": "a986767b-f0fb-42af-ca03-72f4e826c3ec"
      },
      "outputs": [
        {
          "data": {
            "text/plain": [
              "[1, 1235, -7123, 21, -23]"
            ]
          },
          "execution_count": 26,
          "metadata": {},
          "output_type": "execute_result"
        }
      ],
      "source": [
        "l = [2, 0, 1, 1235, 6, -7123, 21, 54, 12, -23, -42]\n",
        "\n",
        "[ i for i in l if i%2 == 1]"
      ]
    },
    {
      "cell_type": "code",
      "source": [
        "l = [2, 0, 1, 1235, 6, -7123, 21, 54, 12, -23, -42]\n",
        "lst = []\n",
        "for i in l:\n",
        "  if i%2!=0:\n",
        "    lst.append(i)\n",
        "print(lst)"
      ],
      "metadata": {
        "colab": {
          "base_uri": "https://localhost:8080/"
        },
        "id": "TKoFxgXn_Yql",
        "outputId": "8316c3b2-135f-4c90-8e94-9d470985c249"
      },
      "id": "TKoFxgXn_Yql",
      "execution_count": 26,
      "outputs": [
        {
          "output_type": "stream",
          "name": "stdout",
          "text": [
            "[1, 1235, -7123, 21, -23]\n"
          ]
        }
      ]
    },
    {
      "cell_type": "markdown",
      "id": "185b7b13",
      "metadata": {
        "id": "185b7b13"
      },
      "source": [
        "### 9. Write a Python program to Remove empty List from List?"
      ]
    },
    {
      "cell_type": "code",
      "execution_count": null,
      "id": "9437d81b",
      "metadata": {
        "id": "9437d81b",
        "outputId": "a412d0b5-56da-4b05-d049-2545e2a08c04"
      },
      "outputs": [
        {
          "data": {
            "text/plain": [
              "[12, 31, [1, 2, -23], [1], [123.23], 2, 321]"
            ]
          },
          "execution_count": 71,
          "metadata": {},
          "output_type": "execute_result"
        }
      ],
      "source": [
        "l = [[], 12, 31, [1,2, -23] , [1], [], [123.23], [], 2, 321]\n",
        "\n",
        "result = []\n",
        "for i in l:\n",
        "    if type(i) == list:\n",
        "        if len(i) != 0:\n",
        "            result.append(i)\n",
        "    else:\n",
        "        result.append(i)\n",
        "\n",
        "result\n",
        "            \n",
        "            "
      ]
    },
    {
      "cell_type": "code",
      "source": [
        "lst = [[], 12, 31, [1,2, -23] , [1], [], [123.23], [], 2, 321]\n",
        "new_lst = []\n",
        "for i in lst:\n",
        "  if type(i)==list and len(i)!=0 or type(i)==int:\n",
        "    new_lst.append(i)\n",
        "print(new_lst)"
      ],
      "metadata": {
        "colab": {
          "base_uri": "https://localhost:8080/"
        },
        "id": "c735s8Gs_iXF",
        "outputId": "7b1fc15d-73ec-4a63-b6c7-4a6bf54cba73"
      },
      "id": "c735s8Gs_iXF",
      "execution_count": 35,
      "outputs": [
        {
          "output_type": "stream",
          "name": "stdout",
          "text": [
            "[12, 31, [1, 2, -23], [1], [123.23], 2, 321]\n"
          ]
        }
      ]
    },
    {
      "cell_type": "markdown",
      "id": "278cfacc",
      "metadata": {
        "id": "278cfacc"
      },
      "source": [
        "### 10. Write a Python program to Cloning or Copying a list?"
      ]
    },
    {
      "cell_type": "code",
      "execution_count": null,
      "id": "670afc25",
      "metadata": {
        "id": "670afc25",
        "outputId": "3d56512d-c075-4ecf-933b-b9251c48e4c6"
      },
      "outputs": [
        {
          "name": "stdout",
          "output_type": "stream",
          "text": [
            "[2, 1, 31, 3, 412, 3, 4667, [2, 3, 1]]\n"
          ]
        }
      ],
      "source": [
        "list1 = [2,1, 31, 3, 412, 3, 4667, [2,3,1]]\n",
        "list2 = []\n",
        "\n",
        "for i in list1:\n",
        "    list2.append(i)\n",
        "    \n",
        "print(list2)"
      ]
    },
    {
      "cell_type": "code",
      "source": [
        "list1 = [2,1, 31, 3, 412, 3, 4667, [2,3,1]]\n",
        "list2 = list1.copy()\n",
        "print(list2)"
      ],
      "metadata": {
        "colab": {
          "base_uri": "https://localhost:8080/"
        },
        "id": "pz5BRtjVCRpm",
        "outputId": "8b573a0a-7115-4f52-f2c2-772102fff682"
      },
      "id": "pz5BRtjVCRpm",
      "execution_count": 36,
      "outputs": [
        {
          "output_type": "stream",
          "name": "stdout",
          "text": [
            "[2, 1, 31, 3, 412, 3, 4667, [2, 3, 1]]\n"
          ]
        }
      ]
    },
    {
      "cell_type": "markdown",
      "id": "b359bedf",
      "metadata": {
        "id": "b359bedf"
      },
      "source": [
        "### 11. Write a Python program to Count occurrences of an element in a list?"
      ]
    },
    {
      "cell_type": "code",
      "execution_count": null,
      "id": "fcebaa59",
      "metadata": {
        "id": "fcebaa59"
      },
      "outputs": [],
      "source": [
        "l = [1,1,1, 3, 4, 1, 7, 8, 6,6,2,1]\n",
        "\n",
        "def occurrences(lst, element):\n",
        "    count = 0\n",
        "    for i in lst:\n",
        "        if i == element:\n",
        "            count += 1\n",
        "            \n",
        "    return count"
      ]
    },
    {
      "cell_type": "code",
      "execution_count": null,
      "id": "f5b78b00",
      "metadata": {
        "id": "f5b78b00",
        "outputId": "3f70b95b-03bb-4dfd-9ec9-8b24de102956"
      },
      "outputs": [
        {
          "data": {
            "text/plain": [
              "5"
            ]
          },
          "execution_count": 77,
          "metadata": {},
          "output_type": "execute_result"
        }
      ],
      "source": [
        "occurrences(l, 1)"
      ]
    },
    {
      "cell_type": "code",
      "source": [
        "l = [1,1,1, 3, 4, 1, 7, 8, 6,6,2,1]\n",
        "s = []\n",
        "d = {}\n",
        "for i in l:\n",
        "  if i not in s:\n",
        "   d[i] = l.count(i)\n",
        "print(l)\n",
        "x = int(input(\"Enter the value from the list to know the count: \"))\n",
        "print(\"The occurence of value\",x,\"in the list is:\",d[x],\"time(s).\")\n"
      ],
      "metadata": {
        "colab": {
          "base_uri": "https://localhost:8080/"
        },
        "id": "Fl9ZeP7wCf3v",
        "outputId": "115597f9-7f66-4cdc-c912-ec107414c7ad"
      },
      "id": "Fl9ZeP7wCf3v",
      "execution_count": 52,
      "outputs": [
        {
          "output_type": "stream",
          "name": "stdout",
          "text": [
            "[1, 1, 1, 3, 4, 1, 7, 8, 6, 6, 2, 1]\n",
            "Enter the value from the list to know the count: 1\n",
            "The occurence of value 1 in the list is: 5 time(s).\n"
          ]
        }
      ]
    },
    {
      "cell_type": "code",
      "execution_count": null,
      "id": "d0632cc2",
      "metadata": {
        "id": "d0632cc2"
      },
      "outputs": [],
      "source": []
    }
  ],
  "metadata": {
    "kernelspec": {
      "display_name": "Python 3 (ipykernel)",
      "language": "python",
      "name": "python3"
    },
    "language_info": {
      "codemirror_mode": {
        "name": "ipython",
        "version": 3
      },
      "file_extension": ".py",
      "mimetype": "text/x-python",
      "name": "python",
      "nbconvert_exporter": "python",
      "pygments_lexer": "ipython3",
      "version": "3.9.7"
    },
    "colab": {
      "provenance": []
    }
  },
  "nbformat": 4,
  "nbformat_minor": 5
}