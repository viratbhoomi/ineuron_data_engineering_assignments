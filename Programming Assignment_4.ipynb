{
 "cells": [
  {
   "cell_type": "markdown",
   "id": "20cb4340",
   "metadata": {},
   "source": [
    "## Programming Assignment_4\n",
    "----------------"
   ]
  },
  {
   "cell_type": "markdown",
   "id": "4fdb6695",
   "metadata": {},
   "source": [
    "### 1. Write a Python Program to Find the Factorial of a Number?\n",
    "##### Sol."
   ]
  },
  {
   "cell_type": "code",
   "execution_count": 5,
   "id": "0e5e7ce2",
   "metadata": {},
   "outputs": [
    {
     "name": "stdout",
     "output_type": "stream",
     "text": [
      "Enter a value: 5\n"
     ]
    },
    {
     "data": {
      "text/plain": [
       "120"
      ]
     },
     "execution_count": 5,
     "metadata": {},
     "output_type": "execute_result"
    }
   ],
   "source": [
    "# num = int(input(\"Enter a number: \"))\n",
    "\n",
    "# fact = 1\n",
    "# for i in range(num, 0, -1):\n",
    "#     fact = fact*i\n",
    "    \n",
    "# print(\"\\nFactorial of {}: {}\".format(num, fact))\n",
    "\n",
    "def factorial(n):\n",
    "    if n>=0:\n",
    "        if n==0 or n==1:\n",
    "            return 1\n",
    "        else:\n",
    "            return n*factorial(n-1)\n",
    "    else:\n",
    "        return \"Please enter the positive integers.\"\n",
    "n = int(input(\"Enter a value: \"))\n",
    "factorial(n)    "
   ]
  },
  {
   "cell_type": "markdown",
   "id": "e6beef62",
   "metadata": {},
   "source": [
    "### 2. Write a Python Program to Display the multiplication Table?\n",
    "##### Sol."
   ]
  },
  {
   "cell_type": "code",
   "execution_count": 8,
   "id": "eba74c90",
   "metadata": {},
   "outputs": [
    {
     "name": "stdout",
     "output_type": "stream",
     "text": [
      "enter the table number: 10\n",
      "The Multiplication Table of:  10\n",
      "10 x 1 = 10\n",
      "10 x 2 = 20\n",
      "10 x 3 = 30\n",
      "10 x 4 = 40\n",
      "10 x 5 = 50\n",
      "10 x 6 = 60\n",
      "10 x 7 = 70\n",
      "10 x 8 = 80\n",
      "10 x 9 = 90\n",
      "10 x 10 = 100\n"
     ]
    }
   ],
   "source": [
    "# num = int(input(\"Enter a number: \"))\n",
    "\n",
    "# for i in range(1, 11):\n",
    "#     print(\"{} x {} = {}\".format(num, i, num*i))\n",
    "\n",
    "number = int(input (\"enter the table number: \"))      \n",
    "count = 1        \n",
    "print (\"The Multiplication Table of: \", number)    \n",
    "while count <= 10:    \n",
    "    number = number * 1    \n",
    "    print (number, 'x', count, '=', number * count)    \n",
    "    count += 1    "
   ]
  },
  {
   "cell_type": "markdown",
   "id": "7de7eba5",
   "metadata": {},
   "source": [
    "### 3. Write a Python Program to Print the Fibonacci sequence?\n",
    "##### Sol."
   ]
  },
  {
   "cell_type": "code",
   "execution_count": 15,
   "id": "14b8e06e",
   "metadata": {},
   "outputs": [
    {
     "name": "stdout",
     "output_type": "stream",
     "text": [
      "Enter a value: 5\n",
      "The Fibonacci sequence is:  [0, 1, 1, 2, 3]\n"
     ]
    }
   ],
   "source": [
    "# fibo_length = int(input(\"Enter a length: \"))\n",
    "\n",
    "# a = 0\n",
    "# b = 1\n",
    "# print(a, end = ' ')\n",
    "# print(b, end = ' ')\n",
    "# while(fibo_length-2 > 0):\n",
    "#     nt = a + b\n",
    "#     print(nt, end = ' ')\n",
    "#     a = b\n",
    "#     b = nt\n",
    "    \n",
    "#     fibo_length -= 1\n",
    "\n",
    "def fibonacci(num):\n",
    "    fib = [0,1]\n",
    "    for i in range(num+1):\n",
    "        fib.append(fib[-1]+fib[-2])\n",
    "    print(\"The Fibonacci sequence is: \",fib[0:num])\n",
    "num = int(input(\"Enter a value: \"))    \n",
    "fibonacci(num)"
   ]
  },
  {
   "cell_type": "markdown",
   "id": "0446442e",
   "metadata": {},
   "source": [
    "### 4. Write a Python Program to Check Armstrong Number?\n",
    "##### Sol. "
   ]
  },
  {
   "cell_type": "code",
   "execution_count": 30,
   "id": "dc4d694d",
   "metadata": {},
   "outputs": [],
   "source": [
    "import math"
   ]
  },
  {
   "cell_type": "code",
   "execution_count": 31,
   "id": "8275da72",
   "metadata": {},
   "outputs": [],
   "source": [
    "# def fibo_check(num):\n",
    "#     l = len(str(num))  ## l = number of digits of number\n",
    "#     sum1 = 0 \n",
    "#     temp_num = num\n",
    "#     while(num > 0):\n",
    "#         d = num % 10\n",
    "#         sum1 += int(math.pow(d, l))\n",
    "#         num = num // 10\n",
    "\n",
    "#     if(sum1 == int(temp_num)):\n",
    "#         return 1\n",
    "#     else:\n",
    "#         return 0"
   ]
  },
  {
   "cell_type": "code",
   "execution_count": 35,
   "id": "da8cea05",
   "metadata": {},
   "outputs": [
    {
     "name": "stdout",
     "output_type": "stream",
     "text": [
      "Enter a number: 153\n",
      "153 is an armstrong number\n"
     ]
    }
   ],
   "source": [
    "# num = int(input(\"Enter a number: \"))\n",
    "\n",
    "# if(fibo_check(num)):\n",
    "#     print(\"{} is an armstrong number\".format(num))\n",
    "# else:\n",
    "#     print(\"{} is not an armstrong number\".format(num))"
   ]
  },
  {
   "cell_type": "code",
   "execution_count": 36,
   "id": "ab5dcfe7",
   "metadata": {},
   "outputs": [
    {
     "name": "stdout",
     "output_type": "stream",
     "text": [
      "Enter a number: 1221\n",
      "1221 is not an armstrong number\n"
     ]
    }
   ],
   "source": [
    "# num = int(input(\"Enter a number: \"))\n",
    "\n",
    "# if(fibo_check(num)):\n",
    "#     print(\"{} is an armstrong number\".format(num))\n",
    "# else:\n",
    "#     print(\"{} is not an armstrong number\".format(num))"
   ]
  },
  {
   "cell_type": "code",
   "execution_count": 19,
   "id": "wicked-national",
   "metadata": {},
   "outputs": [
    {
     "name": "stdout",
     "output_type": "stream",
     "text": [
      "Enter a value153\n",
      "Amstrong Number\n"
     ]
    }
   ],
   "source": [
    "def amstrong_number(num):\n",
    "    temp = 0\n",
    "    for i in range(len(num)):\n",
    "        temp = temp+int(num[i])**len(num)\n",
    "    if int(num)==temp:\n",
    "        print(\"Amstrong Number\")\n",
    "    else:\n",
    "        print(\"Not a Amstrong Number.\")\n",
    "num = input(\"Enter a value\")\n",
    "amstrong_number(num)"
   ]
  },
  {
   "cell_type": "markdown",
   "id": "a6f9adfe",
   "metadata": {},
   "source": [
    "### 5. Write a Python Program to Find Armstrong Number in an Interval?\n",
    "##### Sol."
   ]
  },
  {
   "cell_type": "code",
   "execution_count": 41,
   "id": "0c4aa2f5",
   "metadata": {},
   "outputs": [
    {
     "name": "stdout",
     "output_type": "stream",
     "text": [
      "Enter the lower value of range: 100\n",
      "Enter the higher value of range: 1500\n",
      "\n",
      "From 100 to 1500 following are the Armstrong Number:\n",
      "153 370 371 407 "
     ]
    }
   ],
   "source": [
    "# low = int(input(\"Enter the lower value of range: \"))\n",
    "# high = int(input(\"Enter the higher value of range: \"))\n",
    "\n",
    "# print(\"\\nFrom {} to {} following are the Armstrong Number:\".format(low, high), end='\\n')\n",
    "# for i in range(low, high+1):\n",
    "    \n",
    "#     if(fibo_check(i)):\n",
    "#         print(i, end = ' ')"
   ]
  },
  {
   "cell_type": "code",
   "execution_count": 24,
   "id": "received-chile",
   "metadata": {},
   "outputs": [
    {
     "name": "stdout",
     "output_type": "stream",
     "text": [
      "Enter the lower value: 100\n",
      "Enter the higher value:1500\n",
      "The Amstrong Numbers from  100 to  1500  are: 153 370 371 407\n"
     ]
    }
   ],
   "source": [
    "low = int(input(\"Enter the lower value: \"))\n",
    "high = int(input(\"Enter the higher value:\"))\n",
    "ams_nos = []\n",
    "for num in range(low,high):\n",
    "    num = str(num)\n",
    "    temp = 0\n",
    "    for i in range(len(num)):\n",
    "        temp = temp+int(num[i])**len(num)\n",
    "    if int(num)==temp:\n",
    "        ams_nos.append(num)\n",
    "#         print(num,\" Amstrong Number\")\n",
    "    else:\n",
    "        continue\n",
    "#         print(num,\" Not a Amstrong Number.\")\n",
    "print(\"The Amstrong Numbers from \",low,\"to \",high,\" are:\",*ams_nos)\n",
    "    \n"
   ]
  },
  {
   "cell_type": "markdown",
   "id": "157cad60",
   "metadata": {},
   "source": [
    "### 6. Write a Python Program to Find the Sum of Natural Numbers?\n",
    "##### Sol."
   ]
  },
  {
   "cell_type": "code",
   "execution_count": 44,
   "id": "aa7cf139",
   "metadata": {},
   "outputs": [
    {
     "name": "stdout",
     "output_type": "stream",
     "text": [
      "Enter a positive number: 100\n",
      "Sum of 100 natural number is 5050\n"
     ]
    }
   ],
   "source": [
    "# num = int(input(\"Enter a positive number: \"))\n",
    "\n",
    "# total_sum = 0\n",
    "# for i in range(1, num+1):\n",
    "#     total_sum += i\n",
    "    \n",
    "# print(\"Sum of {} natural number is {}\".format(num, total_sum))"
   ]
  },
  {
   "cell_type": "code",
   "execution_count": 29,
   "id": "333c15da",
   "metadata": {},
   "outputs": [
    {
     "name": "stdout",
     "output_type": "stream",
     "text": [
      "Enter a value: 10\n",
      "The sum of natural number is  55\n"
     ]
    }
   ],
   "source": [
    "num = int(input(\"Enter a value: \"))\n",
    "\n",
    "if num < 0:\n",
    "    print(\"Enter a positive number\")\n",
    "else:\n",
    "    sum = 0\n",
    "    while(num > 0):\n",
    "        sum += num\n",
    "        num -= 1\n",
    "    print(\"The sum of natural number is \", sum)"
   ]
  },
  {
   "cell_type": "code",
   "execution_count": null,
   "id": "neutral-biodiversity",
   "metadata": {},
   "outputs": [],
   "source": []
  }
 ],
 "metadata": {
  "kernelspec": {
   "display_name": "Python 3",
   "language": "python",
   "name": "python3"
  },
  "language_info": {
   "codemirror_mode": {
    "name": "ipython",
    "version": 3
   },
   "file_extension": ".py",
   "mimetype": "text/x-python",
   "name": "python",
   "nbconvert_exporter": "python",
   "pygments_lexer": "ipython3",
   "version": "3.9.2"
  }
 },
 "nbformat": 4,
 "nbformat_minor": 5
}
